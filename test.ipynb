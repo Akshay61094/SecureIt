{
 "cells": [
  {
   "cell_type": "code",
   "execution_count": 2,
   "metadata": {
    "collapsed": true
   },
   "outputs": [],
   "source": [
    "import cv2\n",
    "import numpy as np\n",
    "\n",
    "from objtect import ObjectDetector\n",
    "from tf_api import TFObjectDetectionAPI\n",
    "from object_detection.utils import visualization_utils as vis_util\n",
    "\n",
    "import matplotlib.pyplot as plt\n",
    "import glob\n",
    "%matplotlib inline\n"
   ]
  },
  {
   "cell_type": "code",
   "execution_count": 3,
   "metadata": {
    "collapsed": true
   },
   "outputs": [],
   "source": [
    "\n",
    "PATH_TO_TEST_IMAGES_DIR = './data/images/'\n",
    "TEST_IMAGE_PATHS = glob.glob(PATH_TO_TEST_IMAGES_DIR+\"/*.jpg\")\n",
    "print(TEST_IMAGE_PATHS)\n",
    "IMAGE_SIZE = (12, 8)\n"
   ]
  },
  {
   "cell_type": "code",
   "execution_count": 4,
   "metadata": {},
   "outputs": [],
   "source": [
    "\n",
    "detector = TFObjectDetectionAPI()\n",
    "for image_path in TEST_IMAGE_PATHS:\n",
    "    image = cv2.imread(image_path)\n",
    "    decision = ObjectDetector(image, detector)\n",
    "    img = image\n",
    "    print(type(img))\n",
    "    for i in range(decision.length()):\n",
    "        if decision.getInstance(i).getClass()=='person' and decision.getInstance(i).getScore() > 0.3 :\n",
    "            img = cv2.polylines(img, [np.int32(decision.getInstance(i).getBox())], 1, (0, 255, 0), 3)\n",
    "    plt.figure(figsize=IMAGE_SIZE)\n",
    "    plt.imshow(img)\n",
    "    plt.show()"
   ]
  },
  {
   "cell_type": "code",
   "execution_count": null,
   "metadata": {},
   "outputs": [],
   "source": []
  }
 ],
 "metadata": {
  "kernelspec": {
   "display_name": "Python 2",
   "language": "python",
   "name": "python2"
  },
  "language_info": {
   "codemirror_mode": {
    "name": "ipython",
    "version": 2
   },
   "file_extension": ".py",
   "mimetype": "text/x-python",
   "name": "python",
   "nbconvert_exporter": "python",
   "pygments_lexer": "ipython2",
   "version": "2.7.6"
  }
 },
 "nbformat": 4,
 "nbformat_minor": 0
}
