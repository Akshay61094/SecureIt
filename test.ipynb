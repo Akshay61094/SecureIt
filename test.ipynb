{
 "cells": [
  {
   "cell_type": "code",
   "execution_count": 1,
   "metadata": {
    "collapsed": true
   },
   "outputs": [
    {
     "name": "stdout",
     "output_type": "stream",
     "text": [
      "['./data/images/people-walking-commercial-drive-landing.jpg']\n"
     ]
    }
   ],
   "source": [
    "import cv2\n",
    "import numpy as np\n",
    "\n",
    "from objtect import ObjectDetector\n",
    "from tf_api import TFObjectDetectionAPI\n",
    "from object_detection.utils import visualization_utils as vis_util\n",
    "\n",
    "import matplotlib.pyplot as plt\n",
    "import glob\n",
    "%matplotlib inline\n"
   ]
  },
  {
   "cell_type": "code",
   "execution_count": 2,
   "metadata": {
    "collapsed": true
   },
   "outputs": [
    {
     "name": "stdout",
     "output_type": "stream",
     "text": [
      "['./data/images/people-walking-commercial-drive-landing.jpg']\n"
     ]
    }
   ],
   "source": [
    "\n",
    "PATH_TO_TEST_IMAGES_DIR = './data/images/'\n",
    "TEST_IMAGE_PATHS = glob.glob(PATH_TO_TEST_IMAGES_DIR+\"/*.jpg\")\n",
    "print(TEST_IMAGE_PATHS)\n",
    "IMAGE_SIZE = (12, 8)\n"
   ]
  },
  {
   "cell_type": "code",
   "execution_count": 5,
   "metadata": {},
   "outputs": [
    {
     "ename": "ImportError",
     "evalue": "cannot import name 'PRETRAINED_faster_rcnn_inception_v2_coco_2018_01_28'",
     "traceback": [
      "\u001b[0;31m---------------------------------------------------------------------------\u001b[0m",
      "\u001b[0;31mImportError\u001b[0m                               Traceback (most recent call last)",
      "\u001b[0;32m<ipython-input-5-1da0ff4069db>\u001b[0m in \u001b[0;36m<module>\u001b[0;34m()\u001b[0m\n\u001b[1;32m      1\u001b[0m \u001b[0;32mfrom\u001b[0m \u001b[0mmatplotlib\u001b[0m\u001b[0;34m.\u001b[0m\u001b[0mpatches\u001b[0m \u001b[0;32mimport\u001b[0m \u001b[0mbbox_artist\u001b[0m\u001b[0;34m\u001b[0m\u001b[0m\n\u001b[1;32m      2\u001b[0m \u001b[0;34m\u001b[0m\u001b[0m\n\u001b[0;32m----> 3\u001b[0;31m \u001b[0;32mfrom\u001b[0m \u001b[0mtf_api\u001b[0m \u001b[0;32mimport\u001b[0m \u001b[0mPRETRAINED_faster_rcnn_inception_v2_coco_2018_01_28\u001b[0m\u001b[0;34m\u001b[0m\u001b[0m\n\u001b[0m\u001b[1;32m      4\u001b[0m \u001b[0;34m\u001b[0m\u001b[0m\n\u001b[1;32m      5\u001b[0m \u001b[0mdetector\u001b[0m \u001b[0;34m=\u001b[0m \u001b[0mTFObjectDetectionAPI\u001b[0m\u001b[0;34m(\u001b[0m\u001b[0mPRETRAINED_faster_rcnn_inception_v2_coco_2018_01_28\u001b[0m\u001b[0;34m)\u001b[0m\u001b[0;34m\u001b[0m\u001b[0m\n",
      "\u001b[0;31mImportError\u001b[0m: cannot import name 'PRETRAINED_faster_rcnn_inception_v2_coco_2018_01_28'"
     ],
     "output_type": "error"
    }
   ],
   "source": [
    "from matplotlib.patches import bbox_artist\n",
    "\n",
    "from tf_api import PRETRAINED_faster_rcnn_inception_v2_coco_2018_01_28\n",
    "\n",
    "detector = TFObjectDetectionAPI(PRETRAINED_faster_rcnn_inception_v2_coco_2018_01_28)\n",
    "for image_path in TEST_IMAGE_PATHS:\n",
    "    image = cv2.imread(image_path)\n",
    "    decision = ObjectDetector(image, detector)\n",
    "    img = image.copy()\n",
    "    print(type(img))\n",
    "    for i in range(decision.length()):\n",
    "            inst_img = decision.getInstanceImage(i, types=['person'])\n",
    "            if inst_img is not None:\n",
    "                plt.imshow(cv2.cvtColor(inst_img, cv2.COLOR_BGR2RGB))\n",
    "                plt.show()\n",
    "        \n",
    "    img = decision.getAnnotatedImage(types=['person'])            \n",
    "    # plt.figure(figsize=IMAGE_SIZE)\n",
    "    plt.imshow(cv2.cvtColor(img, cv2.COLOR_BGR2RGB))\n",
    "    plt.show()"
   ]
  },
  {
   "cell_type": "code",
   "execution_count": null,
   "metadata": {},
   "outputs": [],
   "source": []
  }
 ],
 "metadata": {
  "kernelspec": {
   "display_name": "Python 2",
   "language": "python",
   "name": "python2"
  },
  "language_info": {
   "codemirror_mode": {
    "name": "ipython",
    "version": 2
   },
   "file_extension": ".py",
   "mimetype": "text/x-python",
   "name": "python",
   "nbconvert_exporter": "python",
   "pygments_lexer": "ipython2",
   "version": "2.7.6"
  }
 },
 "nbformat": 4,
 "nbformat_minor": 0
}
